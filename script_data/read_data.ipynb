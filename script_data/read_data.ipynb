{
 "cells": [
  {
   "cell_type": "code",
   "execution_count": 11,
   "metadata": {},
   "outputs": [],
   "source": [
    "import pandas as pd\n",
    "import requests\n",
    "import zipfile\n",
    "import tarfile"
   ]
  },
  {
   "cell_type": "markdown",
   "metadata": {},
   "source": [
    "## Reading corpus data"
   ]
  },
  {
   "cell_type": "code",
   "execution_count": null,
   "metadata": {},
   "outputs": [],
   "source": [
    "# how to read data file using pandas from github repo\n",
    "url= 'https://github.com/scrosseye/CLEAR-Corpus/blob/main/CLEAR_corpus_final.xlsx?raw=True'\n",
    "myfile = requests.get(url)\n",
    "\n",
    "df=pd.read_excel(url, sheet_name='Data', engine='openpyxl')\n",
    "print(df.info())\n"
   ]
  },
  {
   "cell_type": "markdown",
   "metadata": {},
   "source": [
    "## Corpus of Sentences rated with Human Complexity Judgments"
   ]
  },
  {
   "cell_type": "code",
   "execution_count": null,
   "metadata": {},
   "outputs": [],
   "source": [
    "file_path = './../data/complexity_ds_en.csv'\n",
    "df = pd.read_csv(file_path)\n",
    "print(df.info())"
   ]
  },
  {
   "cell_type": "markdown",
   "metadata": {},
   "source": [
    "## REALEC Corpus"
   ]
  },
  {
   "cell_type": "code",
   "execution_count": 21,
   "metadata": {},
   "outputs": [],
   "source": [
    "# open tar.gz file name Exam2016.tar.gz in data folder and print all files in that that have .txt and .json extension, then store them in a list\n",
    "# all content of txt file as string and from json file read the content of key 'ielts', 'text' and store them as pandas dataframe\n",
    "\n",
    "file_path = './../data/Exam2016.tar.gz'\n",
    "count = 0\n",
    "dict_text = {}\n",
    "dict_json = {}\n",
    "data = []\n",
    "with tarfile.open(file_path, \"r:gz\") as tar:\n",
    "    count += 1\n",
    "    for tarinfo in tar:\n",
    "        if tarinfo.name.endswith(\".txt\") or tarinfo.name.endswith(\".json\"):\n",
    "            file_name = tarinfo.name\n",
    "            file_name = file_name.split('/')[1].split('.')[0]\n",
    "            with tar.extractfile(tarinfo) as f:\n",
    "                if tarinfo.name.endswith(\".txt\"):\n",
    "                    str_sentence = f.read()\n",
    "                    dict_text[file_name] = str_sentence\n",
    "                else:\n",
    "                    json_data = pd.read_json(f, orient='index').T\n",
    "                    dict_json[file_name] = json_data\n",
    "\n",
    "\n",
    "for key in dict_text.keys():\n",
    "    datum = []\n",
    "    sentence = dict_text[key]\n",
    "    json_data = dict_json[key]\n",
    "    datum = [sentence, json_data['ielts'][0], json_data['CEFR_level'][0], json_data['work_type'][0], json_data['year'][0]]\n",
    "    data.append(datum)\n",
    "\n",
    "df_pd = pd.DataFrame(data, columns=['sentence', 'ielts', 'CEFR_level', 'work_type', 'year'])\n",
    "df_pd = df_pd[df_pd['CEFR_level'] != '']\n",
    "df_pd.to_csv('./../data/Exam2016.csv', index=False, header=True)\n",
    "            "
   ]
  }
 ],
 "metadata": {
  "kernelspec": {
   "display_name": ".ds",
   "language": "python",
   "name": "python3"
  },
  "language_info": {
   "codemirror_mode": {
    "name": "ipython",
    "version": 3
   },
   "file_extension": ".py",
   "mimetype": "text/x-python",
   "name": "python",
   "nbconvert_exporter": "python",
   "pygments_lexer": "ipython3",
   "version": "3.9.15"
  },
  "orig_nbformat": 4
 },
 "nbformat": 4,
 "nbformat_minor": 2
}
