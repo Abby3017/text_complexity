{
 "cells": [
  {
   "cell_type": "code",
   "execution_count": 1,
   "metadata": {},
   "outputs": [],
   "source": [
    "from readability import Readability\n",
    "import pandas as pd\n",
    "import matplotlib.pyplot as plt\n",
    "import seaborn as sns\n",
    "import numpy as np\n",
    "import nltk"
   ]
  },
  {
   "cell_type": "code",
   "execution_count": 6,
   "metadata": {},
   "outputs": [],
   "source": [
    "efcamdat_file_path = './../data/Final database (main prompts).xlsx'\n",
    "df = pd.read_excel(efcamdat_file_path, sheet_name='Sheet 1')\n",
    "efcamdat_df = df[['writing_id', 'cefr', 'cefr_numeric', 'level', 'grade', 'wordcount', 'mtld', 'text', 'text_corrected']]"
   ]
  },
  {
   "cell_type": "code",
   "execution_count": null,
   "metadata": {},
   "outputs": [],
   "source": [
    "for index, row in efcamdat_df.iterrows():\n",
    "    text = row['text']\n",
    "    rd = Readability(text)\n",
    "    efcamdat_df.at[index, 'flesch_reading_ease'] = rd.FleschReadingEase()\n",
    "    efcamdat_df.at[index, 'flesch_kincaid_grade'] = rd.FleschKincaidGradeLevel()\n",
    "    efcamdat_df.at[index, 'gunning_fog_index'] = rd.GunningFogIndex()\n",
    "    efcamdat_df.at[index, 'coleman_liau_index'] = rd.ColemanLiauIndex()\n",
    "    efcamdat_df.at[index, 'smog_index'] = rd.SMOGIndex()\n",
    "    efcamdat_df.at[index, 'ARI'] = rd.ARI()\n",
    "    efcamdat_df.at[index, 'lix'] = rd.LIX()\n",
    "    efcamdat_df.at[index, 'rix'] = rd.RIX()"
   ]
  },
  {
   "cell_type": "code",
   "execution_count": 2,
   "metadata": {},
   "outputs": [],
   "source": [
    "efcamdat_processed_file_path = './../data/final_database_main_prompt_readability.csv'\n",
    "efcamdat_df = pd.read_csv(efcamdat_processed_file_path)"
   ]
  },
  {
   "cell_type": "code",
   "execution_count": 4,
   "metadata": {},
   "outputs": [
    {
     "data": {
      "text/plain": [
       "\"bello everybody! Tomorrow will be a historical day and you can be part of it! I ask you to go to the pulls and vote for me in order that we can start into a better future together. With my experience and wisdom and my intellectual and social competence I am the born leader! You won't never feel alone or misunderstood. You can count on me! I will introduce a new paying system in the lunchroom to reduce queuing. In addition I will hire knew cooks who will make delicious food with regional and healthy ingredients. I will convince the Education Minister to build a new garden where we can cultivate fruits and vegetables. On the roof of our school building a new 20 Kip solar panel system will be installed. These are only few projects which will be realized as soon as I am the following student council president. So let's do it and don't forget to vote for me tomorrow!\""
      ]
     },
     "execution_count": 4,
     "metadata": {},
     "output_type": "execute_result"
    }
   ],
   "source": [
    "efcamdat_df[efcamdat_df['cefr_numeric']==5].iloc[0]['text_corrected']"
   ]
  },
  {
   "cell_type": "code",
   "execution_count": 24,
   "metadata": {},
   "outputs": [
    {
     "name": "stderr",
     "output_type": "stream",
     "text": [
      "/tmp/ipykernel_4370/1232079543.py:6: SettingWithCopyWarning: \n",
      "A value is trying to be set on a copy of a slice from a DataFrame.\n",
      "Try using .loc[row_indexer,col_indexer] = value instead\n",
      "\n",
      "See the caveats in the documentation: https://pandas.pydata.org/pandas-docs/stable/user_guide/indexing.html#returning-a-view-versus-a-copy\n",
      "  selected_rows['avg_sentence_length'] = selected_rows['text_corrected'].apply(avg_sentence_length)\n"
     ]
    },
    {
     "data": {
      "text/plain": [
       "19.533176318928806"
      ]
     },
     "execution_count": 24,
     "metadata": {},
     "output_type": "execute_result"
    }
   ],
   "source": [
    "def avg_sentence_length(text):\n",
    "    sentences = nltk.sent_tokenize(text)\n",
    "    return sum(len(nltk.word_tokenize(sentence)) for sentence in sentences) / len(sentences)\n",
    "\n",
    "selected_rows = efcamdat_df[efcamdat_df['cefr_numeric']==5]\n",
    "selected_rows['avg_sentence_length'] = selected_rows['text_corrected'].apply(avg_sentence_length)\n",
    "selected_rows['avg_sentence_length'].mean()"
   ]
  },
  {
   "cell_type": "code",
   "execution_count": 31,
   "metadata": {},
   "outputs": [
    {
     "data": {
      "text/plain": [
       "4.084227325208467"
      ]
     },
     "execution_count": 31,
     "metadata": {},
     "output_type": "execute_result"
    }
   ],
   "source": [
    "selected_rows = efcamdat_df[efcamdat_df['cefr_numeric'] == 5]\n",
    "\n",
    "# Concatenate all text in the selected rows\n",
    "all_text = ' '.join(selected_rows['text_corrected'])\n",
    "\n",
    "# Tokenize the text into words\n",
    "words = nltk.word_tokenize(all_text)\n",
    "\n",
    "# Calculate the total word length\n",
    "word_lengths = np.array([len(word) for word in words])\n",
    "\n",
    "# Calculate the total word length and average word length\n",
    "total_word_length = np.sum(word_lengths)\n",
    "\n",
    "# Calculate the average word length\n",
    "average_word_length = total_word_length / len(words)\n",
    "average_word_length"
   ]
  },
  {
   "cell_type": "code",
   "execution_count": 29,
   "metadata": {},
   "outputs": [
    {
     "data": {
      "text/plain": [
       "4.028248587570621"
      ]
     },
     "execution_count": 29,
     "metadata": {},
     "output_type": "execute_result"
    }
   ],
   "source": [
    "txt = \"bello everybody! Tomorrow will be a historical day and you can be part of it! I ask you to go to the pulls and vote for me in order that we can start into a better future together. With my experience and wisdom and my intellectual and social competence I am the born leader! You won't never feel alone or misunderstood. You can count on me! I will introduce a new paying system in the lunchroom to reduce queuing. In addition I will hire knew cooks who will make delicious food with regional and healthy ingredients. I will convince the Education Minister to build a new garden where we can cultivate fruits and vegetables. On the roof of our school building a new 20 Kip solar panel system will be installed. These are only few projects which will be realized as soon as I am the following student council president. So let's do it and don't forget to vote for me tomorrow!\"\n",
    "\n",
    "words = nltk.word_tokenize(txt)\n",
    "word_lengths = np.array([len(word) for word in words])\n",
    "total_word_length = np.sum(word_lengths)\n",
    "average_word_length = total_word_length / len(words)\n",
    "average_word_length"
   ]
  },
  {
   "cell_type": "code",
   "execution_count": 22,
   "metadata": {},
   "outputs": [
    {
     "data": {
      "text/plain": [
       "0.2522401083696058"
      ]
     },
     "execution_count": 22,
     "metadata": {},
     "output_type": "execute_result"
    }
   ],
   "source": [
    "efcamdat_df['flesch_reading_ease'].std()/ efcamdat_df['flesch_reading_ease'].mean()"
   ]
  },
  {
   "cell_type": "code",
   "execution_count": 29,
   "metadata": {},
   "outputs": [
    {
     "name": "stderr",
     "output_type": "stream",
     "text": [
      "No artists with labels found to put in legend.  Note that artists whose label start with an underscore are ignored when legend() is called with no argument.\n"
     ]
    },
    {
     "data": {
      "image/png": "[encoded data removed]",
      "text/plain": [
       "<Figure size 600x200 with 1 Axes>"
      ]
     },
     "metadata": {},
     "output_type": "display_data"
    }
   ],
   "source": [
    "# Assuming 'series' is your Pandas Series\n",
    "sns.set(style=\"whitegrid\")\n",
    "\n",
    "# Create a figure and axis\n",
    "plt.figure(figsize=(6, 2))\n",
    "\n",
    "# Plot the kernel density estimate (KDE)\n",
    "sns.kdeplot(efcamdat_df['rix'], color='blue', fill=True)\n",
    "\n",
    "# Calculate quartiles\n",
    "q1 = efcamdat_df['rix'].quantile(0.1)\n",
    "q3 = efcamdat_df['rix'].quantile(0.9)\n",
    "\n",
    "# Add vertical lines for quartiles\n",
    "# plt.axvline(q1, color='red', linestyle='dashed', linewidth=1)\n",
    "# plt.axvline(q3, color='green', linestyle='dashed', linewidth=1)\n",
    "plt.xlim(q1, q3)\n",
    "\n",
    "# Remove x and y axis labels\n",
    "plt.xticks([])\n",
    "plt.yticks([])\n",
    "\n",
    "# Remove x and y axis ticks\n",
    "plt.gca().spines['top'].set_visible(False)\n",
    "plt.gca().spines['right'].set_visible(False)\n",
    "plt.gca().spines['bottom'].set_visible(False)\n",
    "plt.gca().spines['left'].set_visible(False)\n",
    "\n",
    "# Remove background grid lines\n",
    "plt.grid(False)\n",
    "\n",
    "# Set labels and title\n",
    "plt.xlabel('')\n",
    "plt.ylabel('')\n",
    "# plt.title('Kernel Density Plot with Quartiles')\n",
    "\n",
    "# Add legend\n",
    "plt.legend().set_visible(False)\n",
    "\n",
    "# Show the plot\n",
    "# plt.show()\n",
    "plt.savefig('./../result/rix_distribution.pdf', dpi=300, bbox_inches='tight')"
   ]
  },
  {
   "cell_type": "code",
   "execution_count": 31,
   "metadata": {},
   "outputs": [],
   "source": [
    "aa= efcamdat_df.groupby('cefr_numeric', as_index=False)[['flesch_reading_ease', 'flesch_kincaid_grade', 'gunning_fog_index', 'coleman_liau_index', 'smog_index', 'ARI', 'lix', 'rix']].mean()"
   ]
  },
  {
   "cell_type": "code",
   "execution_count": 34,
   "metadata": {},
   "outputs": [
    {
     "data": {
      "image/png": "[encoded data removed]",
      "text/plain": [
       "<Figure size 1000x600 with 1 Axes>"
      ]
     },
     "metadata": {},
     "output_type": "display_data"
    }
   ],
   "source": [
    "sns.set_theme(style=\"whitegrid\")\n",
    "fig, ax = plt.subplots(figsize=(10, 6))\n",
    "ax = sns.barplot(x=\"cefr_numeric\", y=\"value\", hue=\"variable\", data=pd.melt(aa, ['cefr_numeric']))\n",
    "ax.set(xlabel='CEFR Level', ylabel='Readability Score')\n",
    "plt.show()\n"
   ]
  },
  {
   "cell_type": "code",
   "execution_count": 20,
   "metadata": {},
   "outputs": [
    {
     "data": {
      "text/html": [
       "<div>\n",
       "<style scoped>\n",
       "    .dataframe tbody tr th:only-of-type {\n",
       "        vertical-align: middle;\n",
       "    }\n",
       "\n",
       "    .dataframe tbody tr th {\n",
       "        vertical-align: top;\n",
       "    }\n",
       "\n",
       "    .dataframe thead th {\n",
       "        text-align: right;\n",
       "    }\n",
       "</style>\n",
       "<table border=\"1\" class=\"dataframe\">\n",
       "  <thead>\n",
       "    <tr style=\"text-align: right;\">\n",
       "      <th></th>\n",
       "      <th>flesch_reading_ease</th>\n",
       "      <th>flesch_kincaid_grade</th>\n",
       "      <th>gunning_fog_index</th>\n",
       "      <th>coleman_liau_index</th>\n",
       "      <th>smog_index</th>\n",
       "      <th>ARI</th>\n",
       "      <th>lix</th>\n",
       "      <th>rix</th>\n",
       "    </tr>\n",
       "  </thead>\n",
       "  <tbody>\n",
       "    <tr>\n",
       "      <th>count</th>\n",
       "      <td>406062.000000</td>\n",
       "      <td>406062.000000</td>\n",
       "      <td>406062.000000</td>\n",
       "      <td>406062.000000</td>\n",
       "      <td>406062.000000</td>\n",
       "      <td>406062.000000</td>\n",
       "      <td>406062.000000</td>\n",
       "      <td>406062.000000</td>\n",
       "    </tr>\n",
       "    <tr>\n",
       "      <th>mean</th>\n",
       "      <td>81.394526</td>\n",
       "      <td>5.281454</td>\n",
       "      <td>8.316288</td>\n",
       "      <td>5.489563</td>\n",
       "      <td>7.807533</td>\n",
       "      <td>4.927208</td>\n",
       "      <td>29.008181</td>\n",
       "      <td>2.243063</td>\n",
       "    </tr>\n",
       "    <tr>\n",
       "      <th>std</th>\n",
       "      <td>20.530964</td>\n",
       "      <td>5.167646</td>\n",
       "      <td>5.288650</td>\n",
       "      <td>3.727113</td>\n",
       "      <td>2.986923</td>\n",
       "      <td>6.609371</td>\n",
       "      <td>14.628704</td>\n",
       "      <td>2.663712</td>\n",
       "    </tr>\n",
       "    <tr>\n",
       "      <th>min</th>\n",
       "      <td>-1206.210000</td>\n",
       "      <td>-8.302700</td>\n",
       "      <td>0.725000</td>\n",
       "      <td>-29.743600</td>\n",
       "      <td>3.000000</td>\n",
       "      <td>-6.881855</td>\n",
       "      <td>2.416667</td>\n",
       "      <td>0.000000</td>\n",
       "    </tr>\n",
       "    <tr>\n",
       "      <th>25%</th>\n",
       "      <td>72.298900</td>\n",
       "      <td>2.285200</td>\n",
       "      <td>5.081500</td>\n",
       "      <td>3.235700</td>\n",
       "      <td>6.038218</td>\n",
       "      <td>1.065616</td>\n",
       "      <td>20.138889</td>\n",
       "      <td>0.888889</td>\n",
       "    </tr>\n",
       "    <tr>\n",
       "      <th>50%</th>\n",
       "      <td>84.095700</td>\n",
       "      <td>4.084000</td>\n",
       "      <td>7.002900</td>\n",
       "      <td>5.139000</td>\n",
       "      <td>7.472136</td>\n",
       "      <td>3.133548</td>\n",
       "      <td>25.809524</td>\n",
       "      <td>1.500000</td>\n",
       "    </tr>\n",
       "    <tr>\n",
       "      <th>75%</th>\n",
       "      <td>93.985300</td>\n",
       "      <td>6.780000</td>\n",
       "      <td>10.000000</td>\n",
       "      <td>7.347500</td>\n",
       "      <td>9.210590</td>\n",
       "      <td>6.480000</td>\n",
       "      <td>33.727273</td>\n",
       "      <td>2.500000</td>\n",
       "    </tr>\n",
       "    <tr>\n",
       "      <th>max</th>\n",
       "      <td>164.303100</td>\n",
       "      <td>182.246700</td>\n",
       "      <td>97.248500</td>\n",
       "      <td>331.526700</td>\n",
       "      <td>38.916570</td>\n",
       "      <td>265.810000</td>\n",
       "      <td>250.913420</td>\n",
       "      <td>64.000000</td>\n",
       "    </tr>\n",
       "  </tbody>\n",
       "</table>\n",
       "</div>"
      ],
      "text/plain": [
       "       flesch_reading_ease  flesch_kincaid_grade  gunning_fog_index  \\\n",
       "count        406062.000000         406062.000000      406062.000000   \n",
       "mean             81.394526              5.281454           8.316288   \n",
       "std              20.530964              5.167646           5.288650   \n",
       "min           -1206.210000             -8.302700           0.725000   \n",
       "25%              72.298900              2.285200           5.081500   \n",
       "50%              84.095700              4.084000           7.002900   \n",
       "75%              93.985300              6.780000          10.000000   \n",
       "max             164.303100            182.246700          97.248500   \n",
       "\n",
       "       coleman_liau_index     smog_index            ARI            lix  \\\n",
       "count       406062.000000  406062.000000  406062.000000  406062.000000   \n",
       "mean             5.489563       7.807533       4.927208      29.008181   \n",
       "std              3.727113       2.986923       6.609371      14.628704   \n",
       "min            -29.743600       3.000000      -6.881855       2.416667   \n",
       "25%              3.235700       6.038218       1.065616      20.138889   \n",
       "50%              5.139000       7.472136       3.133548      25.809524   \n",
       "75%              7.347500       9.210590       6.480000      33.727273   \n",
       "max            331.526700      38.916570     265.810000     250.913420   \n",
       "\n",
       "                 rix  \n",
       "count  406062.000000  \n",
       "mean        2.243063  \n",
       "std         2.663712  \n",
       "min         0.000000  \n",
       "25%         0.888889  \n",
       "50%         1.500000  \n",
       "75%         2.500000  \n",
       "max        64.000000  "
      ]
     },
     "execution_count": 20,
     "metadata": {},
     "output_type": "execute_result"
    }
   ],
   "source": [
    "efcamdat_df[['flesch_reading_ease', 'flesch_kincaid_grade', 'gunning_fog_index', 'coleman_liau_index', 'smog_index', 'ARI', 'lix', 'rix']].describe()"
   ]
  },
  {
   "cell_type": "code",
   "execution_count": 35,
   "metadata": {},
   "outputs": [
    {
     "data": {
      "text/html": [
       "<div>\n",
       "<style scoped>\n",
       "    .dataframe tbody tr th:only-of-type {\n",
       "        vertical-align: middle;\n",
       "    }\n",
       "\n",
       "    .dataframe tbody tr th {\n",
       "        vertical-align: top;\n",
       "    }\n",
       "\n",
       "    .dataframe thead th {\n",
       "        text-align: right;\n",
       "    }\n",
       "</style>\n",
       "<table border=\"1\" class=\"dataframe\">\n",
       "  <thead>\n",
       "    <tr style=\"text-align: right;\">\n",
       "      <th></th>\n",
       "      <th>cefr_numeric</th>\n",
       "      <th>flesch_reading_ease</th>\n",
       "      <th>flesch_kincaid_grade</th>\n",
       "      <th>gunning_fog_index</th>\n",
       "      <th>coleman_liau_index</th>\n",
       "      <th>smog_index</th>\n",
       "      <th>ARI</th>\n",
       "      <th>lix</th>\n",
       "      <th>rix</th>\n",
       "    </tr>\n",
       "  </thead>\n",
       "  <tbody>\n",
       "    <tr>\n",
       "      <th>cefr_numeric</th>\n",
       "      <td>1.000000</td>\n",
       "      <td>-0.306809</td>\n",
       "      <td>0.255606</td>\n",
       "      <td>0.272901</td>\n",
       "      <td>0.277446</td>\n",
       "      <td>0.379417</td>\n",
       "      <td>0.188288</td>\n",
       "      <td>0.206838</td>\n",
       "      <td>0.173731</td>\n",
       "    </tr>\n",
       "    <tr>\n",
       "      <th>flesch_reading_ease</th>\n",
       "      <td>-0.306809</td>\n",
       "      <td>1.000000</td>\n",
       "      <td>-0.903843</td>\n",
       "      <td>-0.788764</td>\n",
       "      <td>-0.788124</td>\n",
       "      <td>-0.801554</td>\n",
       "      <td>-0.805428</td>\n",
       "      <td>-0.820256</td>\n",
       "      <td>-0.774083</td>\n",
       "    </tr>\n",
       "    <tr>\n",
       "      <th>flesch_kincaid_grade</th>\n",
       "      <td>0.255606</td>\n",
       "      <td>-0.903843</td>\n",
       "      <td>1.000000</td>\n",
       "      <td>0.949839</td>\n",
       "      <td>0.683778</td>\n",
       "      <td>0.803012</td>\n",
       "      <td>0.961737</td>\n",
       "      <td>0.937319</td>\n",
       "      <td>0.883735</td>\n",
       "    </tr>\n",
       "    <tr>\n",
       "      <th>gunning_fog_index</th>\n",
       "      <td>0.272901</td>\n",
       "      <td>-0.788764</td>\n",
       "      <td>0.949839</td>\n",
       "      <td>1.000000</td>\n",
       "      <td>0.594183</td>\n",
       "      <td>0.859083</td>\n",
       "      <td>0.936392</td>\n",
       "      <td>0.922134</td>\n",
       "      <td>0.858255</td>\n",
       "    </tr>\n",
       "    <tr>\n",
       "      <th>coleman_liau_index</th>\n",
       "      <td>0.277446</td>\n",
       "      <td>-0.788124</td>\n",
       "      <td>0.683778</td>\n",
       "      <td>0.594183</td>\n",
       "      <td>1.000000</td>\n",
       "      <td>0.631187</td>\n",
       "      <td>0.717383</td>\n",
       "      <td>0.718886</td>\n",
       "      <td>0.647102</td>\n",
       "    </tr>\n",
       "    <tr>\n",
       "      <th>smog_index</th>\n",
       "      <td>0.379417</td>\n",
       "      <td>-0.801554</td>\n",
       "      <td>0.803012</td>\n",
       "      <td>0.859083</td>\n",
       "      <td>0.631187</td>\n",
       "      <td>1.000000</td>\n",
       "      <td>0.729909</td>\n",
       "      <td>0.772347</td>\n",
       "      <td>0.747429</td>\n",
       "    </tr>\n",
       "    <tr>\n",
       "      <th>ARI</th>\n",
       "      <td>0.188288</td>\n",
       "      <td>-0.805428</td>\n",
       "      <td>0.961737</td>\n",
       "      <td>0.936392</td>\n",
       "      <td>0.717383</td>\n",
       "      <td>0.729909</td>\n",
       "      <td>1.000000</td>\n",
       "      <td>0.952371</td>\n",
       "      <td>0.893990</td>\n",
       "    </tr>\n",
       "    <tr>\n",
       "      <th>lix</th>\n",
       "      <td>0.206838</td>\n",
       "      <td>-0.820256</td>\n",
       "      <td>0.937319</td>\n",
       "      <td>0.922134</td>\n",
       "      <td>0.718886</td>\n",
       "      <td>0.772347</td>\n",
       "      <td>0.952371</td>\n",
       "      <td>1.000000</td>\n",
       "      <td>0.927512</td>\n",
       "    </tr>\n",
       "    <tr>\n",
       "      <th>rix</th>\n",
       "      <td>0.173731</td>\n",
       "      <td>-0.774083</td>\n",
       "      <td>0.883735</td>\n",
       "      <td>0.858255</td>\n",
       "      <td>0.647102</td>\n",
       "      <td>0.747429</td>\n",
       "      <td>0.893990</td>\n",
       "      <td>0.927512</td>\n",
       "      <td>1.000000</td>\n",
       "    </tr>\n",
       "  </tbody>\n",
       "</table>\n",
       "</div>"
      ],
      "text/plain": [
       "                      cefr_numeric  flesch_reading_ease  flesch_kincaid_grade  \\\n",
       "cefr_numeric              1.000000            -0.306809              0.255606   \n",
       "flesch_reading_ease      -0.306809             1.000000             -0.903843   \n",
       "flesch_kincaid_grade      0.255606            -0.903843              1.000000   \n",
       "gunning_fog_index         0.272901            -0.788764              0.949839   \n",
       "coleman_liau_index        0.277446            -0.788124              0.683778   \n",
       "smog_index                0.379417            -0.801554              0.803012   \n",
       "ARI                       0.188288            -0.805428              0.961737   \n",
       "lix                       0.206838            -0.820256              0.937319   \n",
       "rix                       0.173731            -0.774083              0.883735   \n",
       "\n",
       "                      gunning_fog_index  coleman_liau_index  smog_index  \\\n",
       "cefr_numeric                   0.272901            0.277446    0.379417   \n",
       "flesch_reading_ease           -0.788764           -0.788124   -0.801554   \n",
       "flesch_kincaid_grade           0.949839            0.683778    0.803012   \n",
       "gunning_fog_index              1.000000            0.594183    0.859083   \n",
       "coleman_liau_index             0.594183            1.000000    0.631187   \n",
       "smog_index                     0.859083            0.631187    1.000000   \n",
       "ARI                            0.936392            0.717383    0.729909   \n",
       "lix                            0.922134            0.718886    0.772347   \n",
       "rix                            0.858255            0.647102    0.747429   \n",
       "\n",
       "                           ARI       lix       rix  \n",
       "cefr_numeric          0.188288  0.206838  0.173731  \n",
       "flesch_reading_ease  -0.805428 -0.820256 -0.774083  \n",
       "flesch_kincaid_grade  0.961737  0.937319  0.883735  \n",
       "gunning_fog_index     0.936392  0.922134  0.858255  \n",
       "coleman_liau_index    0.717383  0.718886  0.647102  \n",
       "smog_index            0.729909  0.772347  0.747429  \n",
       "ARI                   1.000000  0.952371  0.893990  \n",
       "lix                   0.952371  1.000000  0.927512  \n",
       "rix                   0.893990  0.927512  1.000000  "
      ]
     },
     "execution_count": 35,
     "metadata": {},
     "output_type": "execute_result"
    }
   ],
   "source": [
    "efcamdat_df[['cefr_numeric', 'flesch_reading_ease', 'flesch_kincaid_grade', 'gunning_fog_index', 'coleman_liau_index', 'smog_index', 'ARI', 'lix', 'rix']].corr(method='pearson')"
   ]
  },
  {
   "cell_type": "code",
   "execution_count": 10,
   "metadata": {},
   "outputs": [
    {
     "name": "stdout",
     "output_type": "stream",
     "text": [
      "[ True False False False False False False False]\n"
     ]
    },
    {
     "data": {
      "image/png": "[encoded data removed]",
      "text/plain": [
       "<Figure size 1000x400 with 2 Axes>"
      ]
     },
     "metadata": {},
     "output_type": "display_data"
    }
   ],
   "source": [
    "corr = efcamdat_df[['cefr_numeric', 'flesch_reading_ease', 'flesch_kincaid_grade', 'gunning_fog_index', 'coleman_liau_index', 'ARI', 'lix', 'rix']].corr(method='pearson').abs()\n",
    "# from mpltools import layout\n",
    "import matplotlib\n",
    "sns.set_theme(style=\"white\")\n",
    "mask = np.triu(np.ones_like(corr, dtype=bool))\n",
    "mask_row = np.all(mask, axis=1)\n",
    "mask_col = np.all(mask, axis=0)\n",
    "print(mask_row)\n",
    "# mask_label = np.all(np.is(corr), axis=1)\n",
    "# print(mask)\n",
    "w,h = matplotlib.figure.figaspect(0.25)\n",
    "f, ax = plt.subplots(figsize=(10,4))\n",
    "# set aspect ratio 16, 9\n",
    "labels = ['CEFR Level', 'FRE', 'FKG', 'GOFI', 'CLI', 'ARI', 'LIX', 'RIX']\n",
    "label_rows = [label if not mask else '' for label, mask in zip(labels, mask_row)]\n",
    "label_cols = [label if not mask else '' for label, mask in zip(labels, mask_col)]\n",
    "# ax.set_aspect(0.5)\n",
    "cmap = sns.diverging_palette(230, 20, as_cmap=True)\n",
    "sns.heatmap(corr, mask=mask, cmap=cmap, vmax=1, vmin=0, center=0, square=False, fmt=\".2f\", linewidths=.5, cbar_kws={\"shrink\": .5}, annot=True, xticklabels=label_cols, yticklabels=label_rows)\n",
    "ax.set_yticklabels(ax.get_yticklabels(), rotation='horizontal')\n",
    "# plt.title('Correlation between Readability Scores and CEFR')  annot_kws={\"size\": 8}\n",
    "# plt.show()\n",
    "# export image as pdf\n",
    "plt.savefig('./../result/correlation_between_readability_scores_and_cefr.pdf', dpi=300, bbox_inches='tight')"
   ]
  },
  {
   "cell_type": "code",
   "execution_count": null,
   "metadata": {},
   "outputs": [],
   "source": [
    "import seaborn as sns\n",
    "import matplotlib.pyplot as plt\n",
    "import numpy as np\n",
    "\n",
    "corr = efcamdat_df.groupby('cefr_numeric')[['cefr_numeric', 'flesch_reading_ease', 'flesch_kincaid_grade', 'gunning_fog_index', 'coleman_liau_index', 'smog_index', 'ARI', 'lix', 'rix']].corr(method='pearson')\n",
    "\n",
    "sns.set_theme(style=\"white\")\n",
    "mask = np.triu(np.ones_like(corr, dtype=bool))\n",
    "f, ax = plt.subplots(figsize=(11, 9))\n",
    "cmap = sns.diverging_palette(230, 20, as_cmap=True)\n",
    "sns.heatmap(corr, mask=mask, cmap=cmap, vmax=1, vmin=-1, center=0, square=True, linewidths=.5, cbar_kws={\"shrink\": .5})\n",
    "plt.show()\n"
   ]
  },
  {
   "cell_type": "code",
   "execution_count": 32,
   "metadata": {},
   "outputs": [
    {
     "name": "stdout",
     "output_type": "stream",
     "text": [
      "(324847, 17)\n",
      "(81215, 17)\n"
     ]
    }
   ],
   "source": [
    "# Dataset split into train and test in 80:20 ratio for each cefr_numeric level\n",
    "from sklearn.model_selection import train_test_split\n",
    "\n",
    "train_df = pd.DataFrame()\n",
    "test_df = pd.DataFrame()\n",
    "\n",
    "for cefr_numeric in range(1, 6):\n",
    "    cefr_numeric_df = efcamdat_df[efcamdat_df['cefr_numeric'] == cefr_numeric]\n",
    "    train, test = train_test_split(cefr_numeric_df, test_size=0.2, random_state=42)\n",
    "    train_df = pd.concat([train_df, train])\n",
    "    test_df = pd.concat([test_df, test])\n",
    "\n",
    "print(train_df.shape)\n",
    "print(test_df.shape)\n",
    "train_df.to_csv('./../data/train_efcamdat.csv', index=False)\n",
    "test_df.to_csv('./../data/test_efcamdat.csv', index=False)\n",
    "\n"
   ]
  }
 ],
 "metadata": {
  "kernelspec": {
   "display_name": "Python 3",
   "language": "python",
   "name": "python3"
  },
  "language_info": {
   "codemirror_mode": {
    "name": "ipython",
    "version": 3
   },
   "file_extension": ".py",
   "mimetype": "text/x-python",
   "name": "python",
   "nbconvert_exporter": "python",
   "pygments_lexer": "ipython3",
   "version": "3.8.18"
  },
  "orig_nbformat": 4
 },
 "nbformat": 4,
 "nbformat_minor": 2
}
