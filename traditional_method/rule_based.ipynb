{
 "cells": [
  {
   "cell_type": "code",
   "execution_count": 8,
   "metadata": {},
   "outputs": [],
   "source": [
    "import pandas as pd\n",
    "import numpy as np\n",
    "import sklearn\n",
    "from sklearn.tree import DecisionTreeClassifier\n",
    "from sklearn.model_selection import (GridSearchCV, KFold, RepeatedKFold,\n",
    "                                     cross_val_score)\n",
    "import graphviz\n",
    "from sklearn import tree"
   ]
  },
  {
   "cell_type": "code",
   "execution_count": 2,
   "metadata": {},
   "outputs": [],
   "source": [
    "# CEFR 1 — SUB decrease by 0.4 and more; SYN requires more than 0.9 increase or decrease of score\n",
    "#   CEFR 2 — SUB decrease by 0.5 and more; SYN requires more than 0.9 increase or decrease in score\n",
    "#   CEFR 3 — SUB decrease by 0.5 and more; requires more than 0.4 increase or decrease in score\n",
    "#   CEFR 4 — SUB decrease by 0.6 and more; SYN requires more than 0.9 increase or decrease of score\n",
    "#   CEFR 5 — SUB requires more than 0.8 increase or decrease in score; SYN requires more than 0.6 increase or decrease in score\n",
    "# write a function based on above rule where input of the function is level and the score and the output is the result of the rule in form of 0 for no change and 1 for change\n",
    "\n",
    "def cefr_rule_sub_fre(level, change_score):\n",
    "    if level == 1:\n",
    "        if change_score < - 0.2:\n",
    "            return 1\n",
    "        if change_score < 0.4:\n",
    "            return 0\n",
    "        else:\n",
    "            return 1\n",
    "    elif level == 2:\n",
    "        if change_score < - 0.5:\n",
    "            return 1\n",
    "        if change_score < 0.4:\n",
    "            return 0\n",
    "        else:\n",
    "            return 1\n",
    "    elif level == 3:\n",
    "        if change_score < 0.9:\n",
    "            return 0\n",
    "        else:\n",
    "            return 1\n",
    "    elif level == 4:\n",
    "        if change_score < 0.8:\n",
    "            return 0\n",
    "        else:\n",
    "            return 1\n",
    "    elif level == 5:\n",
    "        if abs(change_score) < 0.8:\n",
    "            return 0\n",
    "        else:\n",
    "            return 1\n",
    "    else:\n",
    "        return -1"
   ]
  },
  {
   "cell_type": "code",
   "execution_count": 3,
   "metadata": {},
   "outputs": [],
   "source": [
    "def cefr_rule_syn_fre(level, change_score):\n",
    "    if level == 1:\n",
    "        if 0 < change_score < 0.35:\n",
    "            return 1\n",
    "        elif change_score > 0.9:\n",
    "            return 1\n",
    "        else:\n",
    "            return 0\n",
    "    elif level == 2:\n",
    "        if change_score > 0.9:\n",
    "            return 1\n",
    "        if -0.3 < change_score < 0:\n",
    "            return 1\n",
    "        else:\n",
    "            return 0\n",
    "    elif level == 3:\n",
    "        if change_score > 0.7:\n",
    "            return 1\n",
    "        if change_score < -0.7:\n",
    "            return 1\n",
    "        else:\n",
    "            return 0\n",
    "    elif level == 4:\n",
    "        if abs(change_score) > 1.2:\n",
    "            return 1\n",
    "        else:\n",
    "            return 0\n",
    "    elif level == 5:\n",
    "        if 0.4 < abs(change_score) < 0.5:\n",
    "            return 1\n",
    "        if -0.6 < change_score < -0.7:\n",
    "            return 1\n",
    "        else:\n",
    "            return 0"
   ]
  },
  {
   "cell_type": "code",
   "execution_count": 4,
   "metadata": {},
   "outputs": [],
   "source": [
    "# \\\\ CLI \\\\\n",
    "#   CEFR 1 — SUB requires an increase of 0.4 and more and a decrease of 0.9 and more ;\n",
    "#   SYN requires more than 0.5 increase\n",
    "#   CEFR 2 — SUB requires an increase of 0.4 and more and a decrease of 0.2 and more ;\n",
    "#   SYN requires more than 0.7 increase and decrease by 0.3 and more\n",
    "#   CEFR 3 — SUB requires an increase of 0.5 and more and a decrease of 0.2 and more ;\n",
    "#   SYN requires more than 0.2 increase and decrease by 0.3 and more\n",
    "#   CEFR 4 — SUB requires an increase and decrease of 1.0; SYN requires decrease by 0.8 and more\n",
    "#   CEFR 5 — SUB requires a decrease of 0.3 and more; SYN requires decrease by 0.7 and more\n",
    "\n",
    "def cefr_rule_sub_cli(level, change_score):\n",
    "    if level == 1:\n",
    "        if change_score < - 0.3:\n",
    "            return 1\n",
    "        elif abs(change_score) >= 0.9:\n",
    "            return 1\n",
    "        else:\n",
    "            return 0\n",
    "    elif level == 2:\n",
    "        if abs(change_score) >= 0.4:\n",
    "            return 1\n",
    "        else:\n",
    "            return 0\n",
    "    elif level == 3:\n",
    "        if change_score < -0.5:\n",
    "            return 1\n",
    "        elif change_score >= 0.4:\n",
    "            return 1\n",
    "        else:\n",
    "            return 0\n",
    "    elif level == 4:\n",
    "        if abs(change_score) < 1.0:\n",
    "            return 0\n",
    "        else:\n",
    "            return 1\n",
    "    elif level == 5:\n",
    "        if abs(change_score) < 1.2:\n",
    "            return 0\n",
    "        else:\n",
    "            return 1\n",
    "    else:\n",
    "        return -1"
   ]
  },
  {
   "cell_type": "code",
   "execution_count": 5,
   "metadata": {},
   "outputs": [],
   "source": [
    "def cefr_rule_syn_cli(level, change_score):\n",
    "    if level == 1:\n",
    "        if -0.6 < change_score < -0.4:\n",
    "            return 1\n",
    "        else:\n",
    "            return 0\n",
    "    elif level == 2:\n",
    "        if 0.2 < change_score < 0.5:\n",
    "            return 1\n",
    "        elif abs(change_score) >= 1.5:\n",
    "            return 1\n",
    "        else:\n",
    "            return 0\n",
    "    elif level == 3:\n",
    "        if change_score < -0.2:\n",
    "            return 1\n",
    "        else:\n",
    "            return 0\n",
    "    elif level == 4:\n",
    "        if abs(change_score) > 0.9:\n",
    "            return 1\n",
    "        else:\n",
    "            return 0\n",
    "    elif level == 5:\n",
    "        if 0.2 < abs(change_score) < 0.4:\n",
    "            return 1\n",
    "        else:\n",
    "            return 0"
   ]
  },
  {
   "cell_type": "code",
   "execution_count": 4,
   "metadata": {},
   "outputs": [],
   "source": [
    "df_traditional_scores = pd.read_csv('/cluster/work/sachan/abhinav/text_complexity/data/data_aug_with_label_readability_score_z.csv')\n"
   ]
  },
  {
   "cell_type": "code",
   "execution_count": 7,
   "metadata": {},
   "outputs": [
    {
     "data": {
      "text/plain": [
       "['Unnamed: 0',\n",
       " 'writing_id',\n",
       " 'cefr_numeric',\n",
       " 'sentences',\n",
       " 'cefr_numeric_syn',\n",
       " 'syn_aug',\n",
       " 'cefr_numeric_sub',\n",
       " 'sub_aug',\n",
       " 'flesch_reading_ease_syn_z',\n",
       " 'flesch_reading_ease_sub_z',\n",
       " 'flesch_reading_ease_z',\n",
       " 'flesch_kincaid_grade_z',\n",
       " 'flesch_kincaid_grade_sub_z',\n",
       " 'flesch_kincaid_grade_syn_z',\n",
       " 'gunning_fog_index_z',\n",
       " 'gunning_fog_index_sub_z',\n",
       " 'gunning_fog_index_syn_z',\n",
       " 'coleman_liau_index_z',\n",
       " 'coleman_liau_index_sub_z',\n",
       " 'coleman_liau_index_syn_z',\n",
       " 'smog_index_z',\n",
       " 'smog_index_sub_z',\n",
       " 'smog_index_syn_z']"
      ]
     },
     "execution_count": 7,
     "metadata": {},
     "output_type": "execute_result"
    }
   ],
   "source": [
    "df_traditional_scores.columns.to_list()"
   ]
  },
  {
   "cell_type": "code",
   "execution_count": 5,
   "metadata": {},
   "outputs": [],
   "source": [
    "cols = ['writing_id', 'cefr_numeric', 'cefr_numeric_syn', 'cefr_numeric_sub', 'flesch_reading_ease_syn_z', 'flesch_reading_ease_sub_z',\n",
    "        'flesch_reading_ease_z', 'coleman_liau_index_z','coleman_liau_index_sub_z','coleman_liau_index_syn_z']\n",
    "\n",
    "df_traditional_scores = df_traditional_scores[cols]"
   ]
  },
  {
   "cell_type": "code",
   "execution_count": 35,
   "metadata": {},
   "outputs": [],
   "source": [
    "X_train = pd.DataFrame()\n",
    "X_train['cli_syn_diff'] = df_traditional_scores['coleman_liau_index_syn_z'] - df_traditional_scores['coleman_liau_index_z']\n",
    "X_train['cefr_level'] = df_traditional_scores['cefr_numeric']\n",
    "\n",
    "y_train = df_traditional_scores['cefr_numeric_syn'] - df_traditional_scores['cefr_numeric']\n",
    "y_train[y_train == -1] = 0\n"
   ]
  },
  {
   "cell_type": "code",
   "execution_count": 36,
   "metadata": {},
   "outputs": [
    {
     "data": {
      "text/plain": [
       "0    73\n",
       "1    27\n",
       "Name: count, dtype: int64"
      ]
     },
     "execution_count": 36,
     "metadata": {},
     "output_type": "execute_result"
    }
   ],
   "source": [
    "y_train.value_counts()"
   ]
  },
  {
   "cell_type": "code",
   "execution_count": 46,
   "metadata": {},
   "outputs": [
    {
     "name": "stdout",
     "output_type": "stream",
     "text": [
      "Accuracy: 0.643 (0.152)\n"
     ]
    }
   ],
   "source": [
    "cv = RepeatedKFold(n_splits=10, n_repeats=3, random_state=1)\n",
    "dtree_model = DecisionTreeClassifier(max_depth=3)\n",
    "scores = cross_val_score(dtree_model, X_train, y_train,\n",
    "                         scoring='accuracy', cv=cv, n_jobs=-1)\n",
    "print('Accuracy: %.3f (%.3f)' % (np.mean(scores), np.std(scores)))"
   ]
  },
  {
   "cell_type": "code",
   "execution_count": 44,
   "metadata": {},
   "outputs": [
    {
     "data": {
      "text/plain": [
       "array([0, 1])"
      ]
     },
     "execution_count": 44,
     "metadata": {},
     "output_type": "execute_result"
    }
   ],
   "source": [
    "model = dtree_model.fit(X_train, y_train)\n",
    "model.classes_"
   ]
  },
  {
   "cell_type": "code",
   "execution_count": 47,
   "metadata": {},
   "outputs": [
    {
     "name": "stdout",
     "output_type": "stream",
     "text": [
      "0.25\n"
     ]
    }
   ],
   "source": [
    "from sklearn.metrics import mean_squared_error\n",
    "# predict values for the train set\n",
    "y_pred = model.predict(X_train)\n",
    "y_pred = pd.Series(y_pred)\n",
    "cefr_pred = y_pred + df_traditional_scores['cefr_numeric']\n",
    "# calculate the rmse of the model\n",
    "accuracy = mean_squared_error(df_traditional_scores['cefr_numeric_syn'], cefr_pred)\n",
    "print(accuracy)"
   ]
  },
  {
   "cell_type": "code",
   "execution_count": 40,
   "metadata": {},
   "outputs": [
    {
     "data": {
      "text/plain": [
       "'cli_syn_diff_render.pdf'"
      ]
     },
     "execution_count": 40,
     "metadata": {},
     "output_type": "execute_result"
    }
   ],
   "source": [
    "dot_data = tree.export_graphviz(model, out_file=None, \n",
    "                                feature_names=X_train.columns.to_list(),  \n",
    "                                class_names=['no change in label', 'change in label'],\n",
    "                                filled=True)\n",
    "\n",
    "# Draw graph\n",
    "graph = graphviz.Source(dot_data, format=\"pdf\")\n",
    "graph.render(\"cli_syn_diff_render\")"
   ]
  },
  {
   "cell_type": "code",
   "execution_count": 5,
   "metadata": {},
   "outputs": [
    {
     "ename": "NameError",
     "evalue": "name 'cefr_rule_syn_fre' is not defined",
     "output_type": "error",
     "traceback": [
      "\u001b[0;31m---------------------------------------------------------------------------\u001b[0m",
      "\u001b[0;31mNameError\u001b[0m                                 Traceback (most recent call last)",
      "Cell \u001b[0;32mIn[5], line 11\u001b[0m\n\u001b[1;32m      9\u001b[0m cli_orig \u001b[38;5;241m=\u001b[39m row[\u001b[38;5;124m'\u001b[39m\u001b[38;5;124mcoleman_liau_index_z\u001b[39m\u001b[38;5;124m'\u001b[39m]\n\u001b[1;32m     10\u001b[0m change_score_cli \u001b[38;5;241m=\u001b[39m cli_orig \u001b[38;5;241m-\u001b[39m cli_sub\n\u001b[0;32m---> 11\u001b[0m fre_pred\u001b[38;5;241m.\u001b[39mappend(\u001b[43mcefr_rule_syn_fre\u001b[49m(level, change_score_fre))\n\u001b[1;32m     12\u001b[0m cli_pred\u001b[38;5;241m.\u001b[39mappend(cefr_rule_syn_cli(level, change_score_cli))\n",
      "\u001b[0;31mNameError\u001b[0m: name 'cefr_rule_syn_fre' is not defined"
     ]
    }
   ],
   "source": [
    "fre_pred = []\n",
    "cli_pred = []\n",
    "for index, row in df_traditional_scores.iterrows():\n",
    "    level = row['cefr_numeric']\n",
    "    fre_sub = row['flesch_reading_ease_syn_z']\n",
    "    fre_orig = row['flesch_reading_ease_z']\n",
    "    change_score_fre  = fre_orig - fre_sub\n",
    "    cli_sub = row['coleman_liau_index_syn_z']\n",
    "    cli_orig = row['coleman_liau_index_z']\n",
    "    change_score_cli = cli_orig - cli_sub\n",
    "    fre_pred.append(cefr_rule_syn_fre(level, change_score_fre))\n",
    "    cli_pred.append(cefr_rule_syn_cli(level, change_score_cli))"
   ]
  },
  {
   "cell_type": "code",
   "execution_count": 38,
   "metadata": {},
   "outputs": [
    {
     "name": "stdout",
     "output_type": "stream",
     "text": [
      "0    73\n",
      "1    27\n",
      "Name: count, dtype: int64\n",
      "[0 0 0 1 1 0 0 0 0 0 1 0 0 0 0 1 0 1 0 0 1 1 0 0 1 1 0 0 0 0 0 0 0 0 0 0 1\n",
      " 1 0 1 0 0 0 0 0 0 1 1 0 0 0 0 0 1 0 1 1 1 1 0 0 0 0 1 0 0 0 0 0 0 0 1 0 1\n",
      " 0 0 0 0 1 1 0 0 0 0 0 0 0 1 1 0 0 0 0 0 0 0 1 0 0 0]\n"
     ]
    }
   ],
   "source": [
    "sub_cefr = df_traditional_scores['cefr_numeric_syn']\n",
    "orig_cefr = df_traditional_scores['cefr_numeric']\n",
    "value_change_cefr = sub_cefr - orig_cefr\n",
    "value_change_cefr[value_change_cefr == -1] = 0\n",
    "print(value_change_cefr.value_counts())\n",
    "print(value_change_cefr.values)"
   ]
  },
  {
   "cell_type": "code",
   "execution_count": 32,
   "metadata": {},
   "outputs": [
    {
     "name": "stdout",
     "output_type": "stream",
     "text": [
      "0.62 0.5\n"
     ]
    }
   ],
   "source": [
    "# get the accuracy of the model using sklearn compare the predicted values with the actual values in the dataset\n",
    "fre_pred = np.array(fre_pred)\n",
    "cli_pred = np.array(cli_pred)\n",
    "from sklearn.metrics import accuracy_score\n",
    "sub_cefr = df_traditional_scores['cefr_numeric_sub']\n",
    "orig_cefr = df_traditional_scores['cefr_numeric']\n",
    "value_change_cefr = sub_cefr - orig_cefr\n",
    "\n",
    "fre_accuracy = accuracy_score(value_change_cefr, fre_pred)\n",
    "cli_accuracy = accuracy_score(value_change_cefr, cli_pred)\n",
    "\n",
    "print(fre_accuracy, cli_accuracy)"
   ]
  },
  {
   "cell_type": "code",
   "execution_count": 36,
   "metadata": {},
   "outputs": [
    {
     "data": {
      "text/plain": [
       "Text(50.722222222222214, 0.5, 'Actual Value')"
      ]
     },
     "execution_count": 36,
     "metadata": {},
     "output_type": "execute_result"
    },
    {
     "data": {
      "image/png": "[encoded data removed]",
      "text/plain": [
       "<Figure size 640x480 with 2 Axes>"
      ]
     },
     "metadata": {},
     "output_type": "display_data"
    }
   ],
   "source": [
    "# draw heatmap to show the accuracy of the model and provide the labels for the axes\n",
    "import seaborn as sns\n",
    "import matplotlib.pyplot as plt\n",
    "from sklearn.metrics import confusion_matrix\n",
    "cm = confusion_matrix(value_change_cefr, fre_pred)\n",
    "sns.heatmap(cm, annot=True, fmt=\"d\")\n",
    "plt.xlabel('Predicted Value')\n",
    "plt.ylabel('Actual Value')\n",
    "# plt.show()\n",
    "# plt.savefig('/cluster/work/sachan/abhinav/text_complexity/result/cli_heatmap_syn.pdf')\n",
    "\n"
   ]
  },
  {
   "cell_type": "code",
   "execution_count": 33,
   "metadata": {},
   "outputs": [
    {
     "name": "stdout",
     "output_type": "stream",
     "text": [
      "[[41 20]\n",
      " [30  9]]\n",
      "31\n",
      "29\n"
     ]
    }
   ],
   "source": [
    "print(cm)\n",
    "# count number of 1 in fre_pred and cli_pred\n",
    "print(np.count_nonzero(fre_pred))\n",
    "print(np.count_nonzero(cli_pred))"
   ]
  },
  {
   "cell_type": "code",
   "execution_count": 34,
   "metadata": {},
   "outputs": [
    {
     "name": "stdout",
     "output_type": "stream",
     "text": [
      "[0.5, 0.5, 0.65, 0.7, 0.75]\n",
      "[0.3, 0.4, 0.45, 0.75, 0.6]\n"
     ]
    }
   ],
   "source": [
    "# take 20 values from fre_pred and value_change_cefr each time and five times and calculate the accuracy of the model\n",
    "fre_accuracy = []\n",
    "cli_accuracy = []\n",
    "for i in range(5):\n",
    "    fre_accuracy.append(accuracy_score(value_change_cefr[i * 20 :(i+1)*20], fre_pred[i * 20 :(i+1)*20]))\n",
    "    cli_accuracy.append(accuracy_score(value_change_cefr[i * 20 :(i+1)*20], cli_pred[i * 20 :(i+1)*20]))\n",
    "\n",
    "print(fre_accuracy)\n",
    "print(cli_accuracy)"
   ]
  }
 ],
 "metadata": {
  "kernelspec": {
   "display_name": "Python 3",
   "language": "python",
   "name": "python3"
  },
  "language_info": {
   "codemirror_mode": {
    "name": "ipython",
    "version": 3
   },
   "file_extension": ".py",
   "mimetype": "text/x-python",
   "name": "python",
   "nbconvert_exporter": "python",
   "pygments_lexer": "ipython3",
   "version": "3.8.18"
  }
 },
 "nbformat": 4,
 "nbformat_minor": 2
}
